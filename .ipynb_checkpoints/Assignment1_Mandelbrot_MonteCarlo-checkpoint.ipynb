{
 "cells": [
  {
   "cell_type": "code",
   "execution_count": 9,
   "metadata": {},
   "outputs": [],
   "source": [
    "import matplotlib.pyplot as plt\n",
    "import numpy as np\n",
    "from pyDOE import *\n",
    "from scipy.stats.distributions import uniform, norm\n",
    "import random"
   ]
  },
  {
   "cell_type": "code",
   "execution_count": 10,
   "metadata": {},
   "outputs": [],
   "source": [
    "#functions for pure random sampling\n",
    "def mandelIter(c, max_iter):\n",
    "    '''\n",
    "    Iterates max_iter times over the F(Z) function.\n",
    "    '''\n",
    "    z = 0\n",
    "    for i in range(0, max_iter):\n",
    "        z = z**2 + c\n",
    "        if abs(z) > 2:\n",
    "            return False\n",
    "    return True\n",
    "\n",
    "def randomComplex():\n",
    "    x,y = np.random.uniform(-2, 2, 2)\n",
    "    c = complex(x,y)\n",
    "    return c,x,y\n",
    "\n",
    "def mandel_set_random(T, N): #uses random uniform drawn points\n",
    "    '''\n",
    "    The distance to 0 must be <2 for any point in the Mandelbrot set. The\n",
    "    distance is the absolute alue or modulus of complex number c.\n",
    "        c = a +bi\n",
    "    Where a is the real part (x-axis) and b is the imaginary part (y-axis)\n",
    "    '''\n",
    "    mandel_area = 0\n",
    "    mandelset_x = []\n",
    "    mandelset_y = [] #list of the points that belong to the mandelbrot set\n",
    "\n",
    "    for i in range(T):\n",
    "        c,x,y = randomComplex()\n",
    "        m = mandelIter(c, N)\n",
    "        if m == True: #is part of the mandelbrotset\n",
    "            mandelset_x.append(x)\n",
    "            mandelset_y.append(y)\n",
    "            mandel_area += 1\n",
    "    mandel_area = (mandel_area/T)*16\n",
    "    return (mandelset_x, mandelset_y, mandel_area)\n"
   ]
  },
  {
   "cell_type": "code",
   "execution_count": 11,
   "metadata": {},
   "outputs": [],
   "source": [
    "#functions for LHS sampling\n",
    "def LHSrandom(T): #latin hypercube\n",
    "    latin = lhs(T, samples = 2)\n",
    "    latin = uniform(loc = -2, scale = 4).ppf(latin)\n",
    "    x,y = latin\n",
    "    random.shuffle(y)\n",
    "    c = []\n",
    "    for i in range(len(x)):\n",
    "        num = complex(x[i],y[i])\n",
    "        c.append(num)\n",
    "    return c,x,y\n",
    "\n",
    "def mandel_set_LHS(T, N): #uses latin hypercube drawn points for mandelbrotset\n",
    "    '''\n",
    "    The distance to 0 must be <2 for any point in the Mandelbrot set. The\n",
    "    distance is the absolute alue or modulus of complex number c.\n",
    "        c = a +bi\n",
    "    Where a is the real part (x-axis) and b is the imaginary part (y-axis)\n",
    "    '''\n",
    "    mandel_area = 0\n",
    "    mandelset_x = []\n",
    "    mandelset_y = [] #list of the points that belong to the mandelbrot set\n",
    "    c,x,y = LHSrandom(T)\n",
    "\n",
    "    for i in range(T):\n",
    "        m = mandelIter(c[i], N)\n",
    "        if m == True: #is part of the mandelbrotset\n",
    "            mandelset_x.append(x[i])\n",
    "            mandelset_y.append(y[i])\n",
    "            mandel_area += 1\n",
    "    mandel_area = (mandel_area/T)*16\n",
    "    return (mandelset_x, mandelset_y, mandel_area)\n"
   ]
  },
  {
   "cell_type": "code",
   "execution_count": 20,
   "metadata": {},
   "outputs": [],
   "source": [
    "T = 100000 #number of points\n",
    "N = 100 #number of iterations per point\n",
    "\n",
    "mandelarea_random = []\n",
    "\n",
    "for i in range(N): #computes mandelbrot area for each iteration j < N\n",
    "    mandelset = mandel_set_random(T, i)\n",
    "    mandelarea_random.append(mandelset[2]) #for random uniform drawn points\n",
    "\n",
    "    \"\"\"\n",
    "    mandelset = mandel_set_LHS(T, i)\n",
    "    mandelarea_latin.append(mandelset[2]) #for latin hypercube\n",
    "    \"\"\"\n",
    "\n",
    "mandelset = mandel_set_random(T, N)\n",
    "mandelarea_random = np.array(mandelarea_random)\n",
    "mandelarea_random = mandelarea_random - mandelset[2]\n",
    "#mandelarea_latin = np.array(mandelarea_latin)\n",
    "#mandelarea_latin = mandelarea_latin - mandelset[2]\n"
   ]
  },
  {
   "cell_type": "code",
   "execution_count": 21,
   "metadata": {},
   "outputs": [
    {
     "name": "stdout",
     "output_type": "stream",
     "text": [
      "[ 1.445488e+01  1.099712e+01  4.687520e+00  2.568000e+00  1.737600e+00\n",
      "  1.229440e+00  9.664000e-01  7.844800e-01  6.700800e-01  5.419200e-01\n",
      "  4.675200e-01  4.484800e-01  3.739200e-01  3.419200e-01  3.193600e-01\n",
      "  2.646400e-01  2.809600e-01  2.275200e-01  2.348800e-01  1.769600e-01\n",
      "  1.811200e-01  1.705600e-01  1.724800e-01  1.761600e-01  1.323200e-01\n",
      "  1.371200e-01  1.251200e-01  1.024000e-01  8.576000e-02  1.011200e-01\n",
      "  8.640000e-02  7.184000e-02  9.776000e-02  9.056000e-02  1.052800e-01\n",
      "  1.139200e-01  6.336000e-02  7.712000e-02  7.344000e-02  5.296000e-02\n",
      "  7.136000e-02  7.168000e-02  5.232000e-02  5.424000e-02  6.672000e-02\n",
      "  6.912000e-02  2.816000e-02  4.992000e-02  1.456000e-02  5.328000e-02\n",
      "  5.792000e-02  7.184000e-02  2.320000e-02  2.464000e-02  4.864000e-02\n",
      "  3.520000e-02  2.896000e-02  3.264000e-02  3.744000e-02  1.696000e-02\n",
      "  3.712000e-02  1.792000e-02  1.664000e-02  4.384000e-02  3.056000e-02\n",
      "  3.552000e-02  1.808000e-02  4.864000e-02  1.696000e-02  2.128000e-02\n",
      "  4.640000e-02  0.000000e+00  3.280000e-02 -1.520000e-02  2.976000e-02\n",
      "  9.600000e-03  1.168000e-02  3.744000e-02  2.736000e-02  3.008000e-02\n",
      "  2.624000e-02 -4.480000e-03  9.920000e-03 -1.920000e-03 -2.416000e-02\n",
      "  2.400000e-02  3.264000e-02  9.280000e-03  4.320000e-02 -4.800000e-04\n",
      "  2.448000e-02 -9.120000e-03 -1.424000e-02  1.296000e-02  6.240000e-03\n",
      " -4.160000e-03  4.960000e-03  4.960000e-03  2.416000e-02  2.768000e-02]\n"
     ]
    }
   ],
   "source": [
    "print(mandelarea_random)"
   ]
  },
  {
   "cell_type": "code",
   "execution_count": 22,
   "metadata": {},
   "outputs": [
    {
     "data": {
      "image/png": "[encoded data removed]",
      "text/plain": [
       "<Figure size 432x288 with 1 Axes>"
      ]
     },
     "metadata": {
      "needs_background": "light"
     },
     "output_type": "display_data"
    }
   ],
   "source": [
    "#plt.scatter(mandelset[0], mandelset[1])\n",
    "#plt.show()\n",
    "\n",
    "plt.plot(mandelarea_random, label = \"random\")\n",
    "#plt.plot(mandelarea_latin, label = \"lhs\")\n",
    "plt.xlabel(\"iterations\")\n",
    "plt.ylabel(\"area\")\n",
    "plt.title(\"convergence of mandelbrot area with pure random sampling\")\n",
    "#plt.hlines(0,1,N-1)\n",
    "#plt.legend()\n",
    "plt.show()\n"
   ]
  },
  {
   "cell_type": "code",
   "execution_count": 18,
   "metadata": {},
   "outputs": [],
   "source": [
    "#how many simulations/samples needed\n",
    "p = 0.95\n",
    "l = 1.96\n",
    "sd = np.std(mandelarea_random)\n",
    "n = T\n"
   ]
  },
  {
   "cell_type": "code",
   "execution_count": null,
   "metadata": {},
   "outputs": [],
   "source": []
  }
 ],
 "metadata": {
  "kernelspec": {
   "display_name": "Python 3",
   "language": "python",
   "name": "python3"
  },
  "language_info": {
   "codemirror_mode": {
    "name": "ipython",
    "version": 3
   },
   "file_extension": ".py",
   "mimetype": "text/x-python",
   "name": "python",
   "nbconvert_exporter": "python",
   "pygments_lexer": "ipython3",
   "version": "3.7.6"
  }
 },
 "nbformat": 4,
 "nbformat_minor": 4
}
